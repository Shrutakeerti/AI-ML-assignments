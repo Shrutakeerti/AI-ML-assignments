{
  "nbformat": 4,
  "nbformat_minor": 0,
  "metadata": {
    "colab": {
      "provenance": [],
      "authorship_tag": "ABX9TyP/DSQ05rrWds8l+Fx+deK0",
      "include_colab_link": true
    },
    "kernelspec": {
      "name": "python3",
      "display_name": "Python 3"
    },
    "language_info": {
      "name": "python"
    }
  },
  "cells": [
    {
      "cell_type": "markdown",
      "metadata": {
        "id": "view-in-github",
        "colab_type": "text"
      },
      "source": [
        "<a href=\"https://colab.research.google.com/github/Shrutakeerti/AI-ML-assignments/blob/main/Assignement7.ipynb\" target=\"_parent\"><img src=\"https://colab.research.google.com/assets/colab-badge.svg\" alt=\"Open In Colab\"/></a>"
      ]
    },
    {
      "cell_type": "code",
      "execution_count": 1,
      "metadata": {
        "colab": {
          "base_uri": "https://localhost:8080/"
        },
        "id": "_yU0_VZcP1A7",
        "outputId": "c8ed6908-8f3d-44b3-8114-6a0541fe3e42"
      },
      "outputs": [
        {
          "output_type": "stream",
          "name": "stdout",
          "text": [
            "Requirement already satisfied: scikit-learn in /usr/local/lib/python3.10/dist-packages (1.3.2)\n",
            "Requirement already satisfied: pandas in /usr/local/lib/python3.10/dist-packages (2.1.4)\n",
            "Requirement already satisfied: numpy<2.0,>=1.17.3 in /usr/local/lib/python3.10/dist-packages (from scikit-learn) (1.26.4)\n",
            "Requirement already satisfied: scipy>=1.5.0 in /usr/local/lib/python3.10/dist-packages (from scikit-learn) (1.13.1)\n",
            "Requirement already satisfied: joblib>=1.1.1 in /usr/local/lib/python3.10/dist-packages (from scikit-learn) (1.4.2)\n",
            "Requirement already satisfied: threadpoolctl>=2.0.0 in /usr/local/lib/python3.10/dist-packages (from scikit-learn) (3.5.0)\n",
            "Requirement already satisfied: python-dateutil>=2.8.2 in /usr/local/lib/python3.10/dist-packages (from pandas) (2.8.2)\n",
            "Requirement already satisfied: pytz>=2020.1 in /usr/local/lib/python3.10/dist-packages (from pandas) (2024.2)\n",
            "Requirement already satisfied: tzdata>=2022.1 in /usr/local/lib/python3.10/dist-packages (from pandas) (2024.1)\n",
            "Requirement already satisfied: six>=1.5 in /usr/local/lib/python3.10/dist-packages (from python-dateutil>=2.8.2->pandas) (1.16.0)\n"
          ]
        }
      ],
      "source": [
        "!pip install scikit-learn pandas\n"
      ]
    },
    {
      "cell_type": "code",
      "source": [
        "import pandas as pd\n",
        "from sklearn.model_selection import train_test_split, KFold, LeaveOneOut, LeavePOut, StratifiedKFold, ShuffleSplit\n",
        "from sklearn.metrics import accuracy_score\n",
        "from sklearn.linear_model import LogisticRegression\n",
        "\n",
        "# Load dataset\n",
        "data = pd.read_csv('/content/diabetes(in).csv')\n",
        "X = data.drop(columns='Outcome')  # Assuming 'Outcome' is the target\n",
        "y = data['Outcome']\n",
        "\n",
        "# Define a model\n",
        "model = LogisticRegression(max_iter=1000)"
      ],
      "metadata": {
        "id": "bGYApqnGQnA_"
      },
      "execution_count": 3,
      "outputs": []
    },
    {
      "cell_type": "code",
      "source": [
        "# a. Holdout\n",
        "X_train, X_test, y_train, y_test = train_test_split(X, y, test_size=0.2, random_state=42)\n",
        "model.fit(X_train, y_train)\n",
        "holdout_acc = accuracy_score(y_test, model.predict(X_test))"
      ],
      "metadata": {
        "id": "B74-h4LCROYu"
      },
      "execution_count": 4,
      "outputs": []
    },
    {
      "cell_type": "code",
      "source": [
        "print(f\"Holdout Accuracy: {holdout_acc}\")"
      ],
      "metadata": {
        "colab": {
          "base_uri": "https://localhost:8080/"
        },
        "id": "7PULb8cuRSzm",
        "outputId": "7b8d8d94-a418-4b50-b7af-ee425470cdf6"
      },
      "execution_count": 5,
      "outputs": [
        {
          "output_type": "stream",
          "name": "stdout",
          "text": [
            "Holdout Accuracy: 0.7467532467532467\n"
          ]
        }
      ]
    },
    {
      "cell_type": "code",
      "source": [
        "import pandas as pd\n",
        "from sklearn.model_selection import train_test_split, KFold, LeaveOneOut, LeavePOut, StratifiedKFold, ShuffleSplit\n",
        "from sklearn.metrics import accuracy_score\n",
        "from sklearn.linear_model import LogisticRegression\n",
        "\n",
        "# Load dataset\n",
        "data = pd.read_csv('/content/diabetes(in).csv')\n",
        "X = data.drop(columns='Outcome')  # Assuming 'Outcome' is the target\n",
        "y = data['Outcome']\n",
        "\n",
        "# Define a model\n",
        "model = LogisticRegression(max_iter=1000)\n",
        "\n",
        "# a. Holdout\n",
        "X_train, X_test, y_train, y_test = train_test_split(X, y, test_size=0.2, random_state=42)\n",
        "model.fit(X_train, y_train)\n",
        "holdout_acc = accuracy_score(y_test, model.predict(X_test))\n",
        "\n",
        "# b. K-Fold Cross-Validation\n",
        "kf = KFold(n_splits=5, random_state=42, shuffle=True)\n",
        "kf_acc = []\n",
        "for train_index, test_index in kf.split(X):\n",
        "    X_train, X_test = X.iloc[train_index], X.iloc[test_index]\n",
        "    y_train, y_test = y.iloc[train_index], y.iloc[test_index]\n",
        "    model.fit(X_train, y_train)\n",
        "    kf_acc.append(accuracy_score(y_test, model.predict(X_test)))\n",
        "\n",
        "# c. Leave-One-Out\n",
        "loo = LeaveOneOut()\n",
        "loo_acc = []\n",
        "for train_index, test_index in loo.split(X):\n",
        "    X_train, X_test = X.iloc[train_index], X.iloc[test_index]\n",
        "    y_train, y_test = y.iloc[train_index], y.iloc[test_index]\n",
        "    model.fit(X_train, y_train)\n",
        "    loo_acc.append(accuracy_score(y_test, model.predict(X_test)))\n",
        "\n",
        "# d. Leave-P-Out (P=2)\n",
        "lpo = LeavePOut(p=2)\n",
        "lpo_acc = []\n",
        "for train_index, test_index in lpo.split(X):\n",
        "    X_train, X_test = X.iloc[train_index], X.iloc[test_index]\n",
        "    y_train, y_test = y.iloc[train_index], y.iloc[test_index]\n",
        "    model.fit(X_train, y_train)\n",
        "    lpo_acc.append(accuracy_score(y_test, model.predict(X_test)))\n",
        "\n",
        "# e. Stratified K-Fold Cross-Validation\n",
        "skf = StratifiedKFold(n_splits=5, random_state=42, shuffle=True)\n",
        "skf_acc = []\n",
        "for train_index, test_index in skf.split(X, y):\n",
        "    X_train, X_test = X.iloc[train_index], X.iloc[test_index]\n",
        "    y_train, y_test = y.iloc[train_index], y.iloc[test_index]\n",
        "    model.fit(X_train, y_train)\n",
        "    skf_acc.append(accuracy_score(y_test, model.predict(X_test)))\n",
        "\n",
        "# f. Shuffle Split\n",
        "ss = ShuffleSplit(n_splits=5, test_size=0.2, random_state=42)\n",
        "ss_acc = []\n",
        "for train_index, test_index in ss.split(X):\n",
        "    X_train, X_test = X.iloc[train_index], X.iloc[test_index]\n",
        "    y_train, y_test = y.iloc[train_index], y.iloc[test_index]\n",
        "    model.fit(X_train, y_train)\n",
        "    ss_acc.append(accuracy_score(y_test, model.predict(X_test)))\n",
        "\n",
        "# Comparing results\n",
        "print(f'Holdout Accuracy: {holdout_acc}')\n",
        "print(f'K-Fold Accuracy: {sum(kf_acc)/len(kf_acc)}')\n",
        "print(f'Leave-One-Out Accuracy: {sum(loo_acc)/len(loo_acc)}')\n",
        "print(f'Leave-P-Out Accuracy: {sum(lpo_acc)/len(lpo_acc)}')\n",
        "print(f'Stratified K-Fold Accuracy: {sum(skf_acc)/len(skf_acc)}')\n",
        "print(f'Shuffle Split Accuracy: {sum(ss_acc)/len(ss_acc)}')\n"
      ],
      "metadata": {
        "id": "fGzt5SRCT4tW"
      },
      "execution_count": null,
      "outputs": []
    }
  ]
}